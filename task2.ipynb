{
 "cells": [
  {
   "cell_type": "code",
   "execution_count": 128,
   "id": "Vx9xnE0DDdx5",
   "metadata": {
    "colab": {
     "base_uri": "https://localhost:8080/"
    },
    "id": "Vx9xnE0DDdx5",
    "outputId": "2fc433ae-2e1d-4b09-9ad3-aae5a0ef609d"
   },
   "outputs": [],
   "source": [
    "def calculate_maxmin_moves(matrix):\n",
    "    num_rows = len(matrix)\n",
    "    num_cols = len(matrix[0])\n",
    "\n",
    "    # Initialize maxmin values with negative infinity\n",
    "    row_maxmin_value = float(\"-inf\")\n",
    "    col_for_row_maxmin = None\n",
    "    col_maxmin_value = float(\"-inf\")\n",
    "    row_for_col_maxmin = None\n",
    "\n",
    "    # Calculate maxmin moves for row player\n",
    "    row_maxmin_values = [min(row)[0] for row in matrix]\n",
    "    col_for_row_maxmin = row_maxmin_values.index(max(row_maxmin_values))\n",
    "\n",
    "    # Calculate maxmin moves for column player\n",
    "    col_maxmin_values = [min([matrix[row][col][1] for row in range(num_rows)]) for col in range(num_cols)]\n",
    "    row_for_col_maxmin = col_maxmin_values.index(max(col_maxmin_values))\n",
    "\n",
    "    return max(row_maxmin_values), col_for_row_maxmin, max(col_maxmin_values), row_for_col_maxmin"
   ]
  },
  {
   "cell_type": "code",
   "execution_count": 129,
   "id": "cjCNhYczMe6o",
   "metadata": {
    "colab": {
     "base_uri": "https://localhost:8080/"
    },
    "id": "cjCNhYczMe6o",
    "outputId": "b5ed2a46-1918-4888-b033-e869c02a5063"
   },
   "outputs": [],
   "source": [
    "def find_dominated_strategies(matrix):\n",
    "    num_rows = len(matrix)\n",
    "    num_cols = len(matrix[0])\n",
    "\n",
    "    # Check dominated strategies for row player\n",
    "    row_dominated = [False] * num_rows\n",
    "    for i in range(num_rows):\n",
    "        for j in range(num_rows):\n",
    "            if i != j and all(matrix[j][k][0] >= matrix[i][k][0] for k in range(num_cols)):\n",
    "                row_dominated[i] = True\n",
    "\n",
    "    # Check dominated strategies for column player\n",
    "    col_dominated = [False] * num_cols\n",
    "    for j in range(num_cols):\n",
    "        for i in range(num_cols):\n",
    "            if i != j and all(matrix[k][i][1] >= matrix[k][j][1] for k in range(num_rows)):\n",
    "                col_dominated[j] = True\n",
    "\n",
    "    return row_dominated, col_dominated\n",
    "\n",
    "def print_matrix(matrix):\n",
    "    for row in matrix:\n",
    "        print(row)\n"
   ]
  },
  {
   "cell_type": "code",
   "execution_count": 130,
   "id": "l4-1YWSxM3ma",
   "metadata": {
    "colab": {
     "base_uri": "https://localhost:8080/"
    },
    "id": "l4-1YWSxM3ma",
    "outputId": "0d403387-75a6-4429-ffa5-95bea9e340c3"
   },
   "outputs": [],
   "source": [
    "def find_best_response(matrix):\n",
    "    num_rows = len(matrix)\n",
    "    num_cols = len(matrix[0])\n",
    "\n",
    "    # Calculate best responses for row player\n",
    "    best_responses_row = []\n",
    "    for i in range(num_rows):\n",
    "        max_payoff = max(matrix[i][j][1] for j in range(num_cols))\n",
    "        best_responses_row.append([j for j in range(num_cols) if matrix[i][j][1] == max_payoff])\n",
    "\n",
    "    # Calculate best responses for column player\n",
    "    best_responses_col = []\n",
    "    for j in range(num_cols):\n",
    "        max_payoff = max(matrix[i][j][0] for i in range(num_rows))\n",
    "        best_responses_col.append([i for i in range(num_rows) if matrix[i][j][0] == max_payoff])\n",
    "\n",
    "    return best_responses_row, best_responses_col\n",
    "\n",
    "def print_best_response(player, best_responses):\n",
    "    print(f\"Best responses for {player} player:\")\n",
    "    for i, response in enumerate(best_responses):\n",
    "        print(f\"Strategy {i}: {response}\")\n"
   ]
  },
  {
   "cell_type": "code",
   "execution_count": 131,
   "id": "xHij128Co_mg",
   "metadata": {
    "colab": {
     "base_uri": "https://localhost:8080/"
    },
    "id": "xHij128Co_mg",
    "outputId": "28d8ea45-a3b6-4845-92ba-ca70bf07e8ea"
   },
   "outputs": [],
   "source": [
    "import numpy as np\n",
    "\n",
    "def compute_Nash_equilibria(payoffs_matrix):\n",
    "    # Convert the payoffs matrix to a numpy array for easier manipulation\n",
    "    payoffs_matrix = np.array(payoffs_matrix)\n",
    "\n",
    "    # Get the number of rows and columns in the payoff matrix\n",
    "    num_rows = len(payoffs_matrix)\n",
    "    num_cols = len(payoffs_matrix[0]) if num_rows > 0 else 0\n",
    "\n",
    "    # Compute Nash equilibria\n",
    "    nash_equilibria = []\n",
    "\n",
    "    for i in range(num_rows):\n",
    "        for j in range(num_cols):\n",
    "            is_nash = True\n",
    "            for k in range(num_rows):\n",
    "                if k != i and payoffs_matrix[k, j][0] > payoffs_matrix[i, j][0]:\n",
    "                    is_nash = False\n",
    "                    break\n",
    "            if is_nash:\n",
    "                for l in range(num_cols):\n",
    "                    if l != j and payoffs_matrix[i, l][1] > payoffs_matrix[i, j][1]:\n",
    "                        is_nash = False\n",
    "                        break\n",
    "            if is_nash:\n",
    "                nash_equilibria.append((i, j))\n",
    "\n",
    "    # Check if there are Nash equilibria\n",
    "    if len(nash_equilibria) == 0:\n",
    "        return \"No Nash equilibria found\"\n",
    "    else:\n",
    "        equilibria_info = []\n",
    "        for eq in nash_equilibria:\n",
    "            equilibria_info.append((eq, payoffs_matrix[eq]))\n",
    "        return f\"Nash equilibria: {equilibria_info}\"\n",
    "\n",
    "\n",
    "# result = compute_pure_mixed_strategy(payoffs_matrix)\n",
    "# print(result)\n"
   ]
  },
  {
   "cell_type": "code",
   "execution_count": 132,
   "id": "e03e270e",
   "metadata": {},
   "outputs": [],
   "source": [
    "import numpy as np\n",
    "\n",
    "def compute_pure_mixed_strategy(payoffs_matrix):\n",
    "    # Convert the payoffs matrix to a numpy array for easier manipulation\n",
    "    payoffs_matrix = np.array(payoffs_matrix)\n",
    "\n",
    "    # Get the number of rows and columns in the payoff matrix\n",
    "    num_rows = len(payoffs_matrix)\n",
    "    num_cols = len(payoffs_matrix[0]) if num_rows > 0 else 0\n",
    "\n",
    "    # Compute Nash equilibria\n",
    "    nash_equilibria = []\n",
    "\n",
    "    for i in range(num_rows):\n",
    "        for j in range(num_cols):\n",
    "            is_nash = True\n",
    "            for k in range(num_rows):\n",
    "                if k != i and payoffs_matrix[k, j][0] > payoffs_matrix[i, j][0]:\n",
    "                    is_nash = False\n",
    "                    break\n",
    "            if is_nash:\n",
    "                for l in range(num_cols):\n",
    "                    if l != j and payoffs_matrix[i, l][1] > payoffs_matrix[i, j][1]:\n",
    "                        is_nash = False\n",
    "                        break\n",
    "            if is_nash:\n",
    "                nash_equilibria.append((i, j))\n",
    "\n",
    "    # Check if there are Nash equilibria\n",
    "    if len(nash_equilibria) == 0:\n",
    "        return \"No Nash equilibria found\"\n",
    "    else:\n",
    "        result_str = \"Nash equilibria:\\n\"\n",
    "        for eq in nash_equilibria:\n",
    "            # Check if the equilibrium is a pure strategy\n",
    "            if (payoffs_matrix[eq[0], eq[1]] == payoffs_matrix[:, eq[1]]).all() and \\\n",
    "               (payoffs_matrix[eq[0], eq[1]] == payoffs_matrix[eq[0], :]).all():\n",
    "                result_str += f\"Pure strategy: Player 1 plays action {eq[0]} and Player 2 plays action {eq[1]}\\n\"\n",
    "            else:\n",
    "                # Calculate mixed strategy probabilities\n",
    "                p1_total_payoffs = np.sum(payoffs_matrix[:, eq[1]][:, 0])\n",
    "                p2_total_payoffs = np.sum(payoffs_matrix[eq[0], :][:, 1])\n",
    "                p1_prob = p1_total_payoffs / np.sum(payoffs_matrix[:, :, 0])\n",
    "                p2_prob = p2_total_payoffs / np.sum(payoffs_matrix[:, :, 1])\n",
    "                result_str += f\"Mixed strategy: Player 1 plays action {eq[0]} with probability {p1_prob:.2f} and Player 2 plays action {eq[1]} with probability {p2_prob:.2f}\\n\"\n",
    "        return result_str\n",
    "\n",
    "# # Compute Nash equilibria and print the result\n",
    "# result = compute_pure_mixed_strategy(payoffs_matrix)\n",
    "# print(result)\n"
   ]
  },
  {
   "cell_type": "code",
   "execution_count": 133,
   "id": "0fecc6ff-469b-4321-841c-a294c1077dbd",
   "metadata": {
    "colab": {
     "base_uri": "https://localhost:8080/",
     "height": 332
    },
    "id": "0fecc6ff-469b-4321-841c-a294c1077dbd",
    "outputId": "b0256f83-d8cb-439f-e002-79f09e35bf02"
   },
   "outputs": [
    {
     "name": "stdout",
     "output_type": "stream",
     "text": [
      "Payoff matrix: [[(3, 2), (3, 1), (2, 3)], [(2, 2), (1, 3), (3, 2)]]\n"
     ]
    }
   ],
   "source": [
    "import tkinter as tk\n",
    "matrix = []\n",
    "def create_payoff_matrix():\n",
    "    rows = int(row_entry.get())\n",
    "    cols = int(col_entry.get())\n",
    "\n",
    "#     matrix = []\n",
    "\n",
    "    for i in range(rows):\n",
    "        row = []\n",
    "        for j in range(cols):\n",
    "            payoff = tuple(map(int, entry_boxes[i][j].get().split(',')))\n",
    "            row.append(payoff)\n",
    "        matrix.append(row)\n",
    "\n",
    "    print(\"Payoff matrix:\", matrix)\n",
    "\n",
    "\n",
    "\n",
    "def update_matrix():\n",
    "    global entry_boxes\n",
    "    for row in entry_boxes:\n",
    "        for entry in row:\n",
    "            entry.destroy()\n",
    "    entry_boxes = []\n",
    "    for i in range(int(row_entry.get())):\n",
    "        row_entries = []\n",
    "        for j in range(int(col_entry.get())):\n",
    "            entry = tk.Entry(matrix_frame, width=10)\n",
    "            entry.grid(row=i+2, column=j)\n",
    "            row_entries.append(entry)\n",
    "        entry_boxes.append(row_entries)\n",
    "\n",
    "# Create main window\n",
    "root = tk.Tk()\n",
    "root.title(\"Payoff Matrix Creator\")\n",
    "\n",
    "# Frame to contain matrix input widgets\n",
    "matrix_frame = tk.Frame(root)\n",
    "matrix_frame.pack()\n",
    "\n",
    "# Entry fields for number of rows and columns\n",
    "row_label = tk.Label(matrix_frame, text=\"Number of Rows:\")\n",
    "row_label.grid(row=0, column=0)\n",
    "row_entry = tk.Entry(matrix_frame)\n",
    "row_entry.grid(row=0, column=1)\n",
    "\n",
    "col_label = tk.Label(matrix_frame, text=\"Number of Columns:\")\n",
    "col_label.grid(row=1, column=0)\n",
    "col_entry = tk.Entry(matrix_frame)\n",
    "col_entry.grid(row=1, column=1)\n",
    "\n",
    "# Button to update matrix\n",
    "update_button = tk.Button(matrix_frame, text=\"Update Matrix\", command=update_matrix)\n",
    "update_button.grid(row=1, column=2)\n",
    "\n",
    "# Radio buttons for zero-sum or non-zero-sum\n",
    "sum_type = tk.IntVar()\n",
    "zero_sum_radio = tk.Radiobutton(root, text=\"Zero-Sum\", variable=sum_type, value=0)\n",
    "zero_sum_radio.pack()\n",
    "non_zero_sum_radio = tk.Radiobutton(root, text=\"Non Zero-Sum\", variable=sum_type, value=1)\n",
    "non_zero_sum_radio.pack()\n",
    "\n",
    "# Button to create payoff matrix\n",
    "create_button = tk.Button(root, text=\"Create Payoff Matrix\", command=create_payoff_matrix)\n",
    "create_button.pack()\n",
    "\n",
    "entry_boxes = []\n",
    "\n",
    "root.mainloop()\n"
   ]
  },
  {
   "cell_type": "code",
   "execution_count": 134,
   "id": "8af710e0",
   "metadata": {},
   "outputs": [
    {
     "name": "stdout",
     "output_type": "stream",
     "text": [
      "Maxmin move for row player (max of min payoffs for each row): 2\n",
      "Index of maxmin move for row player (0-indexed): 0\n",
      "Maxmin move for column player (min of max payoffs for each column): 2\n",
      "Index of maxmin move for column player (0-indexed): 0\n"
     ]
    }
   ],
   "source": [
    "maxmin_row_value, maxmin_row_index, maxmin_col_value, maxmin_col_index = calculate_maxmin_moves(matrix)\n",
    "\n",
    "print(\"Maxmin move for row player (max of min payoffs for each row):\", maxmin_row_value)\n",
    "print(\"Index of maxmin move for row player (0-indexed):\", maxmin_row_index)\n",
    "print(\"Maxmin move for column player (min of max payoffs for each column):\", maxmin_col_value)\n",
    "print(\"Index of maxmin move for column player (0-indexed):\", maxmin_col_index)"
   ]
  },
  {
   "cell_type": "code",
   "execution_count": 135,
   "id": "7dd4c5c9",
   "metadata": {},
   "outputs": [
    {
     "name": "stdout",
     "output_type": "stream",
     "text": [
      "Payoff matrix before elimination:\n",
      "[(3, 2), (3, 1), (2, 3)]\n",
      "[(2, 2), (1, 3), (3, 2)]\n",
      "\n",
      "Payoff matrix after elimination:\n",
      "[(3, 1), (2, 3)]\n",
      "[(1, 3), (3, 2)]\n",
      "\n",
      "Eliminated row indices: []\n",
      "Eliminated column indices: [0]\n"
     ]
    }
   ],
   "source": [
    "print(\"Payoff matrix before elimination:\")\n",
    "print_matrix(matrix)\n",
    "\n",
    "eliminated_row_strategies, eliminated_col_strategies = find_dominated_strategies(matrix)\n",
    "\n",
    "# # Create a new matrix without eliminated strategies\n",
    "# new_matrix = []\n",
    "# eliminated_rows = []\n",
    "# eliminated_cols = []\n",
    "# for i in range(len(matrix)):\n",
    "#     if not eliminated_row_strategies[i]:\n",
    "#         new_row = [matrix[i][j] for j in range(len(matrix[i])) if not eliminated_col_strategies[j]]\n",
    "#         new_matrix.append(new_row)\n",
    "#     else:\n",
    "#         eliminated_rows.append(i)\n",
    "\n",
    "# for j in range(len(matrix[0])):\n",
    "#     if eliminated_col_strategies[j]:\n",
    "#         eliminated_cols.append(j)\n",
    "\n",
    "\n",
    "# Create a new matrix without eliminated strategies\n",
    "new_matrix = []\n",
    "eliminated_rows = []\n",
    "eliminated_cols = []\n",
    "for i in range(len(matrix)):\n",
    "    if not eliminated_row_strategies[i]:\n",
    "        new_row = []\n",
    "        for j in range(len(matrix[i])):\n",
    "            if not eliminated_col_strategies[j]:\n",
    "                new_row.append(matrix[i][j])\n",
    "        if new_row:  # Check if the row is not empty after elimination\n",
    "            new_matrix.append(new_row)\n",
    "        else:\n",
    "            eliminated_rows.append(i)\n",
    "    else:\n",
    "        eliminated_rows.append(i)\n",
    "\n",
    "for j in range(len(matrix[0])):\n",
    "    if eliminated_col_strategies[j]:\n",
    "        eliminated_cols.append(j)\n",
    "\n",
    "\n",
    "print(\"\\nPayoff matrix after elimination:\")\n",
    "print_matrix(new_matrix)\n",
    "\n",
    "print(\"\\nEliminated row indices:\", eliminated_rows)\n",
    "print(\"Eliminated column indices:\", eliminated_cols)"
   ]
  },
  {
   "cell_type": "code",
   "execution_count": 136,
   "id": "c296c603",
   "metadata": {},
   "outputs": [
    {
     "name": "stdout",
     "output_type": "stream",
     "text": [
      "Best responses for row player:\n",
      "Strategy 0: [2]\n",
      "Strategy 1: [1]\n",
      "Best responses for column player:\n",
      "Strategy 0: [0]\n",
      "Strategy 1: [0]\n",
      "Strategy 2: [1]\n"
     ]
    }
   ],
   "source": [
    "best_responses_row, best_responses_col = find_best_response(matrix)\n",
    "\n",
    "print_best_response(\"row\", best_responses_row)\n",
    "print_best_response(\"column\", best_responses_col)"
   ]
  },
  {
   "cell_type": "code",
   "execution_count": 137,
   "id": "543d8a3e",
   "metadata": {},
   "outputs": [
    {
     "name": "stdout",
     "output_type": "stream",
     "text": [
      "No Nash equilibria found\n"
     ]
    }
   ],
   "source": [
    "result = compute_Nash_equilibria(matrix)\n",
    "print(result)"
   ]
  },
  {
   "cell_type": "markdown",
   "id": "970c6212-490c-4fc2-88ba-95f21a80d9ac",
   "metadata": {},
   "source": [
    "### Compute Nash equilibria and print the result\n",
    "result = compute_pure_mixed_strategy(matrix)\n",
    "print(result)"
   ]
  },
  {
   "cell_type": "code",
   "execution_count": 138,
   "id": "2999e9b7-ebf1-4df9-aefb-d538ad640a26",
   "metadata": {},
   "outputs": [
    {
     "name": "stdout",
     "output_type": "stream",
     "text": [
      "No Nash equilibria found\n"
     ]
    }
   ],
   "source": [
    "result = compute_pure_mixed_strategy(matrix)\n",
    "print(result)"
   ]
  }
 ],
 "metadata": {
  "colab": {
   "provenance": []
  },
  "kernelspec": {
   "display_name": "Python 3 (ipykernel)",
   "language": "python",
   "name": "python3"
  },
  "language_info": {
   "codemirror_mode": {
    "name": "ipython",
    "version": 3
   },
   "file_extension": ".py",
   "mimetype": "text/x-python",
   "name": "python",
   "nbconvert_exporter": "python",
   "pygments_lexer": "ipython3",
   "version": "3.11.7"
  }
 },
 "nbformat": 4,
 "nbformat_minor": 5
}
